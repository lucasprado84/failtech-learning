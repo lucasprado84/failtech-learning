{
 "cells": [
  {
   "cell_type": "markdown",
   "metadata": {},
   "source": [
    "# Failtech Learning: Tratamento e Análise Exploratória dos Dados \n",
    "\n",
    "Utilizando o conjunto de dados do Crunchbase para prever as chances de  uma startup falhar."
   ]
  },
  {
   "cell_type": "markdown",
   "metadata": {},
   "source": [
    "## Importando Bibliotecas"
   ]
  },
  {
   "cell_type": "code",
   "execution_count": 1,
   "metadata": {},
   "outputs": [],
   "source": [
    "import pandas as pd\n",
    "import numpy as np\n",
    "import datetime as dt\n",
    "import re\n",
    "import pickle\n",
    "import matplotlib.pyplot as plt\n",
    "import seaborn as sns\n",
    "from collections import Counter\n",
    "import pandas_profiling\n",
    "%matplotlib inline"
   ]
  },
  {
   "cell_type": "markdown",
   "metadata": {},
   "source": [
    "## Carregando datasets"
   ]
  },
  {
   "cell_type": "code",
   "execution_count": 2,
   "metadata": {},
   "outputs": [],
   "source": [
    "companies_df = pd.read_csv('/home/lucas/startup_data/companies.csv')\n",
    "\n",
    "additions_df = pd.read_csv('/home/lucas/startup_data/additions.csv')\n",
    "\n",
    "acquisitions_df = pd.read_csv('/home/lucas/startup_data/acquisitions.csv')\n",
    "\n",
    "investments_df = pd.read_csv('/home/lucas/startup_data/investments.csv')\n",
    "\n",
    "rounds_df = pd.read_csv('/home/lucas/startup_data/rounds.csv')"
   ]
  },
  {
   "cell_type": "markdown",
   "metadata": {},
   "source": [
    "## Limpando os dados"
   ]
  },
  {
   "cell_type": "markdown",
   "metadata": {},
   "source": [
    "### Companies DataFrame"
   ]
  },
  {
   "cell_type": "code",
   "execution_count": 3,
   "metadata": {},
   "outputs": [
    {
     "data": {
      "text/plain": [
       "(66368, 14)"
      ]
     },
     "execution_count": 3,
     "metadata": {},
     "output_type": "execute_result"
    }
   ],
   "source": [
    "companies_df.shape"
   ]
  },
  {
   "cell_type": "markdown",
   "metadata": {},
   "source": [
    "Remover startups sem a primeira data de financiamento"
   ]
  },
  {
   "cell_type": "code",
   "execution_count": 4,
   "metadata": {},
   "outputs": [
    {
     "data": {
      "text/plain": [
       "(66344, 14)"
      ]
     },
     "execution_count": 4,
     "metadata": {},
     "output_type": "execute_result"
    }
   ],
   "source": [
    "clean_companies_df = companies_df.dropna(subset=['first_funding_at'])\n",
    "clean_companies_df.shape"
   ]
  },
  {
   "cell_type": "markdown",
   "metadata": {},
   "source": [
    "**Remover startups sem nome**"
   ]
  },
  {
   "cell_type": "code",
   "execution_count": 5,
   "metadata": {},
   "outputs": [
    {
     "data": {
      "text/plain": [
       "(66343, 14)"
      ]
     },
     "execution_count": 5,
     "metadata": {},
     "output_type": "execute_result"
    }
   ],
   "source": [
    "clean_companies_df = clean_companies_df.dropna(subset=['name'])\n",
    "clean_companies_df.shape"
   ]
  },
  {
   "cell_type": "markdown",
   "metadata": {},
   "source": [
    "**Formatar datas**\n",
    "\n",
    "Remover datas sem sentido (1532, por exemplo, estaria claramente fora de contexto)"
   ]
  },
  {
   "cell_type": "code",
   "execution_count": 6,
   "metadata": {},
   "outputs": [
    {
     "data": {
      "text/plain": [
       "(66338, 14)"
      ]
     },
     "execution_count": 6,
     "metadata": {},
     "output_type": "execute_result"
    }
   ],
   "source": [
    "# Os dois primeiros dígitos da coluna \"first_funding_at\" devem ser 19 ou 20\n",
    "clean_companies_df = clean_companies_df[\n",
    "    clean_companies_df.first_funding_at.str.match(r'(19)|(20)')]\n",
    "clean_companies_df = clean_companies_df[\n",
    "    clean_companies_df.last_funding_at.str.match(r'(19)|(20)')]\n",
    "clean_companies_df.shape"
   ]
  },
  {
   "cell_type": "code",
   "execution_count": 7,
   "metadata": {},
   "outputs": [
    {
     "data": {
      "text/plain": [
       "(66338, 14)"
      ]
     },
     "execution_count": 7,
     "metadata": {},
     "output_type": "execute_result"
    }
   ],
   "source": [
    "clean_companies_df.first_funding_at = pd.to_datetime(\n",
    "    clean_companies_df.loc[:, 'first_funding_at'])\n",
    "clean_companies_df.last_funding_at = pd.to_datetime(\n",
    "    clean_companies_df.loc[:, 'last_funding_at'])\n",
    "clean_companies_df.shape"
   ]
  },
  {
   "cell_type": "markdown",
   "metadata": {},
   "source": [
    "**Converter objetos numéricos**"
   ]
  },
  {
   "cell_type": "code",
   "execution_count": 8,
   "metadata": {},
   "outputs": [],
   "source": [
    "# Preencher '-' com NaNs para ser tratado como numérico\n",
    "clean_companies_df.funding_total_usd.replace('-', np.nan, inplace=True)"
   ]
  },
  {
   "cell_type": "code",
   "execution_count": 9,
   "metadata": {},
   "outputs": [],
   "source": [
    "# Converter objetos em números\n",
    "clean_companies_df.funding_total_usd = pd.to_numeric(\n",
    "    clean_companies_df.loc[:, 'funding_total_usd'])\n",
    "\n",
    "clean_companies_df.funding_rounds = pd.to_numeric(\n",
    "    clean_companies_df.loc[:, 'funding_rounds'])"
   ]
  },
  {
   "cell_type": "code",
   "execution_count": 10,
   "metadata": {},
   "outputs": [
    {
     "name": "stdout",
     "output_type": "stream",
     "text": [
      "<class 'pandas.core.frame.DataFrame'>\n",
      "Int64Index: 66338 entries, 0 to 66367\n",
      "Data columns (total 14 columns):\n",
      " #   Column             Non-Null Count  Dtype         \n",
      "---  ------             --------------  -----         \n",
      " 0   permalink          66338 non-null  object        \n",
      " 1   name               66338 non-null  object        \n",
      " 2   homepage_url       61280 non-null  object        \n",
      " 3   category_list      63191 non-null  object        \n",
      " 4   funding_total_usd  53555 non-null  float64       \n",
      " 5   status             66338 non-null  object        \n",
      " 6   country_code       59383 non-null  object        \n",
      " 7   state_code         57794 non-null  object        \n",
      " 8   region             58311 non-null  object        \n",
      " 9   city               58313 non-null  object        \n",
      " 10  funding_rounds     66338 non-null  int64         \n",
      " 11  founded_at         51122 non-null  object        \n",
      " 12  first_funding_at   66338 non-null  datetime64[ns]\n",
      " 13  last_funding_at    66338 non-null  datetime64[ns]\n",
      "dtypes: datetime64[ns](2), float64(1), int64(1), object(10)\n",
      "memory usage: 7.6+ MB\n"
     ]
    }
   ],
   "source": [
    "clean_companies_df.info()"
   ]
  },
  {
   "cell_type": "code",
   "execution_count": 11,
   "metadata": {},
   "outputs": [
    {
     "data": {
      "text/plain": [
       "operating    53008\n",
       "closed        6235\n",
       "acquired      5548\n",
       "ipo           1547\n",
       "Name: status, dtype: int64"
      ]
     },
     "execution_count": 11,
     "metadata": {},
     "output_type": "execute_result"
    }
   ],
   "source": [
    "clean_companies_df.status.value_counts()"
   ]
  },
  {
   "cell_type": "code",
   "execution_count": 12,
   "metadata": {},
   "outputs": [],
   "source": [
    "# Remover colunas desnecessárias\n",
    "clean_companies_df.drop(axis=1, columns=['homepage_url'], inplace=True)"
   ]
  },
  {
   "cell_type": "code",
   "execution_count": 13,
   "metadata": {},
   "outputs": [],
   "source": [
    "# Salvar dataframe tratado\n",
    "clean_companies_df.to_pickle('/home/lucas/startup_data/small_companies_df')"
   ]
  },
  {
   "cell_type": "code",
   "execution_count": 50,
   "metadata": {
    "scrolled": true
   },
   "outputs": [
    {
     "data": {
      "text/html": [
       "<div>\n",
       "<style scoped>\n",
       "    .dataframe tbody tr th:only-of-type {\n",
       "        vertical-align: middle;\n",
       "    }\n",
       "\n",
       "    .dataframe tbody tr th {\n",
       "        vertical-align: top;\n",
       "    }\n",
       "\n",
       "    .dataframe thead th {\n",
       "        text-align: right;\n",
       "    }\n",
       "</style>\n",
       "<table border=\"1\" class=\"dataframe\">\n",
       "  <thead>\n",
       "    <tr style=\"text-align: right;\">\n",
       "      <th></th>\n",
       "      <th>permalink</th>\n",
       "      <th>name</th>\n",
       "      <th>category_list</th>\n",
       "      <th>funding_total_usd</th>\n",
       "      <th>status</th>\n",
       "      <th>country_code</th>\n",
       "      <th>state_code</th>\n",
       "      <th>region</th>\n",
       "      <th>city</th>\n",
       "      <th>funding_rounds</th>\n",
       "      <th>founded_at</th>\n",
       "      <th>first_funding_at</th>\n",
       "      <th>last_funding_at</th>\n",
       "    </tr>\n",
       "  </thead>\n",
       "  <tbody>\n",
       "    <tr>\n",
       "      <th>3</th>\n",
       "      <td>/organization/0-6-com</td>\n",
       "      <td>0-6.com</td>\n",
       "      <td>Curated Web</td>\n",
       "      <td>2000000.0</td>\n",
       "      <td>operating</td>\n",
       "      <td>CHN</td>\n",
       "      <td>22</td>\n",
       "      <td>Beijing</td>\n",
       "      <td>Beijing</td>\n",
       "      <td>1</td>\n",
       "      <td>2007-01-01</td>\n",
       "      <td>2008-03-19</td>\n",
       "      <td>2008-03-19</td>\n",
       "    </tr>\n",
       "    <tr>\n",
       "      <th>6</th>\n",
       "      <td>/organization/0ndine-biomedical-inc</td>\n",
       "      <td>Ondine Biomedical Inc.</td>\n",
       "      <td>Biotechnology</td>\n",
       "      <td>762851.0</td>\n",
       "      <td>operating</td>\n",
       "      <td>CAN</td>\n",
       "      <td>BC</td>\n",
       "      <td>Vancouver</td>\n",
       "      <td>Vancouver</td>\n",
       "      <td>2</td>\n",
       "      <td>1997-01-01</td>\n",
       "      <td>2009-09-11</td>\n",
       "      <td>2009-12-21</td>\n",
       "    </tr>\n",
       "    <tr>\n",
       "      <th>12</th>\n",
       "      <td>/organization/1-800-dentist</td>\n",
       "      <td>1-800-DENTIST</td>\n",
       "      <td>Health and Wellness</td>\n",
       "      <td>NaN</td>\n",
       "      <td>operating</td>\n",
       "      <td>USA</td>\n",
       "      <td>CA</td>\n",
       "      <td>Los Angeles</td>\n",
       "      <td>Los Angeles</td>\n",
       "      <td>1</td>\n",
       "      <td>1986-01-01</td>\n",
       "      <td>2010-08-19</td>\n",
       "      <td>2010-08-19</td>\n",
       "    </tr>\n",
       "    <tr>\n",
       "      <th>13</th>\n",
       "      <td>/organization/1-800-doctors</td>\n",
       "      <td>1-800-DOCTORS</td>\n",
       "      <td>Health and Wellness</td>\n",
       "      <td>1750000.0</td>\n",
       "      <td>operating</td>\n",
       "      <td>USA</td>\n",
       "      <td>NJ</td>\n",
       "      <td>Newark</td>\n",
       "      <td>Iselin</td>\n",
       "      <td>1</td>\n",
       "      <td>1984-01-01</td>\n",
       "      <td>2011-03-02</td>\n",
       "      <td>2011-03-02</td>\n",
       "    </tr>\n",
       "    <tr>\n",
       "      <th>17</th>\n",
       "      <td>/organization/10-20-media</td>\n",
       "      <td>10-20 Media</td>\n",
       "      <td>E-Commerce</td>\n",
       "      <td>2050000.0</td>\n",
       "      <td>operating</td>\n",
       "      <td>USA</td>\n",
       "      <td>MD</td>\n",
       "      <td>Baltimore</td>\n",
       "      <td>Woodbine</td>\n",
       "      <td>4</td>\n",
       "      <td>2001-01-01</td>\n",
       "      <td>2009-06-18</td>\n",
       "      <td>2011-12-28</td>\n",
       "    </tr>\n",
       "    <tr>\n",
       "      <th>...</th>\n",
       "      <td>...</td>\n",
       "      <td>...</td>\n",
       "      <td>...</td>\n",
       "      <td>...</td>\n",
       "      <td>...</td>\n",
       "      <td>...</td>\n",
       "      <td>...</td>\n",
       "      <td>...</td>\n",
       "      <td>...</td>\n",
       "      <td>...</td>\n",
       "      <td>...</td>\n",
       "      <td>...</td>\n",
       "      <td>...</td>\n",
       "    </tr>\n",
       "    <tr>\n",
       "      <th>66339</th>\n",
       "      <td>/organization/zylie-the-bear</td>\n",
       "      <td>Zylie the Bear</td>\n",
       "      <td>E-Commerce</td>\n",
       "      <td>75000.0</td>\n",
       "      <td>operating</td>\n",
       "      <td>USA</td>\n",
       "      <td>CT</td>\n",
       "      <td>Hartford</td>\n",
       "      <td>Greenwich</td>\n",
       "      <td>1</td>\n",
       "      <td>2009-01-01</td>\n",
       "      <td>2012-06-07</td>\n",
       "      <td>2012-06-07</td>\n",
       "    </tr>\n",
       "    <tr>\n",
       "      <th>66346</th>\n",
       "      <td>/organization/zympi</td>\n",
       "      <td>Zympi</td>\n",
       "      <td>Mobile|Networking|Web Hosting</td>\n",
       "      <td>NaN</td>\n",
       "      <td>operating</td>\n",
       "      <td>USA</td>\n",
       "      <td>CA</td>\n",
       "      <td>Ontario - Inland Empire</td>\n",
       "      <td>Redlands</td>\n",
       "      <td>1</td>\n",
       "      <td>2010-09-03</td>\n",
       "      <td>2011-11-22</td>\n",
       "      <td>2011-11-22</td>\n",
       "    </tr>\n",
       "    <tr>\n",
       "      <th>66353</th>\n",
       "      <td>/organization/zyngenia</td>\n",
       "      <td>Zyngenia</td>\n",
       "      <td>Biotechnology</td>\n",
       "      <td>25000000.0</td>\n",
       "      <td>operating</td>\n",
       "      <td>USA</td>\n",
       "      <td>MD</td>\n",
       "      <td>Washington, D.C.</td>\n",
       "      <td>Gaithersburg</td>\n",
       "      <td>1</td>\n",
       "      <td>2008-01-01</td>\n",
       "      <td>2010-09-09</td>\n",
       "      <td>2010-09-09</td>\n",
       "    </tr>\n",
       "    <tr>\n",
       "      <th>66359</th>\n",
       "      <td>/organization/zyrra</td>\n",
       "      <td>Zyrra</td>\n",
       "      <td>E-Commerce</td>\n",
       "      <td>1510500.0</td>\n",
       "      <td>operating</td>\n",
       "      <td>USA</td>\n",
       "      <td>MA</td>\n",
       "      <td>Boston</td>\n",
       "      <td>Cambridge</td>\n",
       "      <td>4</td>\n",
       "      <td>NaN</td>\n",
       "      <td>2010-10-21</td>\n",
       "      <td>2012-10-18</td>\n",
       "    </tr>\n",
       "    <tr>\n",
       "      <th>66363</th>\n",
       "      <td>/organization/zznode-science-and-technology-co...</td>\n",
       "      <td>ZZNode Science and Technology</td>\n",
       "      <td>Enterprise Software</td>\n",
       "      <td>1587301.0</td>\n",
       "      <td>operating</td>\n",
       "      <td>CHN</td>\n",
       "      <td>22</td>\n",
       "      <td>Beijing</td>\n",
       "      <td>Beijing</td>\n",
       "      <td>1</td>\n",
       "      <td>NaN</td>\n",
       "      <td>2012-04-01</td>\n",
       "      <td>2012-04-01</td>\n",
       "    </tr>\n",
       "  </tbody>\n",
       "</table>\n",
       "<p>16531 rows × 13 columns</p>\n",
       "</div>"
      ],
      "text/plain": [
       "                                               permalink  \\\n",
       "3                                  /organization/0-6-com   \n",
       "6                    /organization/0ndine-biomedical-inc   \n",
       "12                           /organization/1-800-dentist   \n",
       "13                           /organization/1-800-doctors   \n",
       "17                             /organization/10-20-media   \n",
       "...                                                  ...   \n",
       "66339                       /organization/zylie-the-bear   \n",
       "66346                                /organization/zympi   \n",
       "66353                             /organization/zyngenia   \n",
       "66359                                /organization/zyrra   \n",
       "66363  /organization/zznode-science-and-technology-co...   \n",
       "\n",
       "                                name                  category_list  \\\n",
       "3                            0-6.com                    Curated Web   \n",
       "6             Ondine Biomedical Inc.                  Biotechnology   \n",
       "12                     1-800-DENTIST            Health and Wellness   \n",
       "13                     1-800-DOCTORS            Health and Wellness   \n",
       "17                       10-20 Media                     E-Commerce   \n",
       "...                              ...                            ...   \n",
       "66339                 Zylie the Bear                     E-Commerce   \n",
       "66346                          Zympi  Mobile|Networking|Web Hosting   \n",
       "66353                       Zyngenia                  Biotechnology   \n",
       "66359                          Zyrra                     E-Commerce   \n",
       "66363  ZZNode Science and Technology            Enterprise Software   \n",
       "\n",
       "       funding_total_usd     status country_code state_code  \\\n",
       "3              2000000.0  operating          CHN         22   \n",
       "6               762851.0  operating          CAN         BC   \n",
       "12                   NaN  operating          USA         CA   \n",
       "13             1750000.0  operating          USA         NJ   \n",
       "17             2050000.0  operating          USA         MD   \n",
       "...                  ...        ...          ...        ...   \n",
       "66339            75000.0  operating          USA         CT   \n",
       "66346                NaN  operating          USA         CA   \n",
       "66353         25000000.0  operating          USA         MD   \n",
       "66359          1510500.0  operating          USA         MA   \n",
       "66363          1587301.0  operating          CHN         22   \n",
       "\n",
       "                        region          city  funding_rounds  founded_at  \\\n",
       "3                      Beijing       Beijing               1  2007-01-01   \n",
       "6                    Vancouver     Vancouver               2  1997-01-01   \n",
       "12                 Los Angeles   Los Angeles               1  1986-01-01   \n",
       "13                      Newark        Iselin               1  1984-01-01   \n",
       "17                   Baltimore      Woodbine               4  2001-01-01   \n",
       "...                        ...           ...             ...         ...   \n",
       "66339                 Hartford     Greenwich               1  2009-01-01   \n",
       "66346  Ontario - Inland Empire      Redlands               1  2010-09-03   \n",
       "66353         Washington, D.C.  Gaithersburg               1  2008-01-01   \n",
       "66359                   Boston     Cambridge               4         NaN   \n",
       "66363                  Beijing       Beijing               1         NaN   \n",
       "\n",
       "      first_funding_at last_funding_at  \n",
       "3           2008-03-19      2008-03-19  \n",
       "6           2009-09-11      2009-12-21  \n",
       "12          2010-08-19      2010-08-19  \n",
       "13          2011-03-02      2011-03-02  \n",
       "17          2009-06-18      2011-12-28  \n",
       "...                ...             ...  \n",
       "66339       2012-06-07      2012-06-07  \n",
       "66346       2011-11-22      2011-11-22  \n",
       "66353       2010-09-09      2010-09-09  \n",
       "66359       2010-10-21      2012-10-18  \n",
       "66363       2012-04-01      2012-04-01  \n",
       "\n",
       "[16531 rows x 13 columns]"
      ]
     },
     "execution_count": 50,
     "metadata": {},
     "output_type": "execute_result"
    }
   ],
   "source": [
    "# Verificar quantas startups foram financiadas pela última vez há mais de 2,5 anos\n",
    "clean_companies_df[np.logical_and(\n",
    "    np.logical_and(clean_companies_df.last_funding_at < pd.to_datetime('2013'),\n",
    "                   clean_companies_df.first_funding_at > '2005'),\n",
    "    clean_companies_df.status == 'operating')]"
   ]
  },
  {
   "cell_type": "code",
   "execution_count": 51,
   "metadata": {},
   "outputs": [],
   "source": [
    "# Criar um dataset somente com as startups que falharam ou que tiveram sucesso\n",
    "\n",
    "current_date = clean_companies_df.last_funding_at.max()\n",
    "\n",
    "nonoperating_companies_df = clean_companies_df[np.logical_or(\n",
    "    clean_companies_df.status != 'operating',\n",
    "    np.logical_and(\n",
    "        np.logical_and(\n",
    "            clean_companies_df.status == 'operating',\n",
    "            clean_companies_df.first_funding_at >\n",
    "            current_date - pd.offsets.DateOffset(years=10)),\n",
    "        clean_companies_df.last_funding_at < current_date -\n",
    "        pd.offsets.DateOffset(years=2, months=6)))].reset_index()"
   ]
  },
  {
   "cell_type": "code",
   "execution_count": 52,
   "metadata": {},
   "outputs": [],
   "source": [
    "nonoperating_companies_df.drop(columns='index', axis=1, inplace=True)"
   ]
  },
  {
   "cell_type": "code",
   "execution_count": 53,
   "metadata": {
    "scrolled": true
   },
   "outputs": [
    {
     "data": {
      "text/plain": [
       "(32426, 13)"
      ]
     },
     "execution_count": 53,
     "metadata": {},
     "output_type": "execute_result"
    }
   ],
   "source": [
    "nonoperating_companies_df.shape"
   ]
  },
  {
   "cell_type": "code",
   "execution_count": 54,
   "metadata": {},
   "outputs": [],
   "source": [
    "# Criar coluna com status binário (0 = closed, 1 = aqcquired/IPO)\n",
    "nonoperating_companies_df['status_bool'] = np.nan\n",
    "\n",
    "# Preencher a coluna\n",
    "nonoperating_companies_df.loc[np.logical_or(\n",
    "    nonoperating_companies_df.status == 'closed', nonoperating_companies_df.\n",
    "    status == 'operating'), 'status_bool'] = 0\n",
    "nonoperating_companies_df.loc[np.logical_or(\n",
    "    nonoperating_companies_df.status == 'ipo', nonoperating_companies_df.status\n",
    "    == 'acquired'), 'status_bool'] = 1"
   ]
  },
  {
   "cell_type": "code",
   "execution_count": 55,
   "metadata": {},
   "outputs": [
    {
     "data": {
      "text/plain": [
       "0.0    25331\n",
       "1.0     7095\n",
       "Name: status_bool, dtype: int64"
      ]
     },
     "execution_count": 55,
     "metadata": {},
     "output_type": "execute_result"
    }
   ],
   "source": [
    "nonoperating_companies_df.status_bool.value_counts()"
   ]
  },
  {
   "cell_type": "code",
   "execution_count": 56,
   "metadata": {},
   "outputs": [
    {
     "data": {
      "text/plain": [
       "6605"
      ]
     },
     "execution_count": 56,
     "metadata": {},
     "output_type": "execute_result"
    }
   ],
   "source": [
    "# Quantas startups não têm informações de financiamento em dólares?\n",
    "nonoperating_companies_df.funding_total_usd.isna().sum()"
   ]
  },
  {
   "cell_type": "code",
   "execution_count": 57,
   "metadata": {
    "scrolled": true
   },
   "outputs": [
    {
     "data": {
      "text/html": [
       "<div>\n",
       "<style scoped>\n",
       "    .dataframe tbody tr th:only-of-type {\n",
       "        vertical-align: middle;\n",
       "    }\n",
       "\n",
       "    .dataframe tbody tr th {\n",
       "        vertical-align: top;\n",
       "    }\n",
       "\n",
       "    .dataframe thead th {\n",
       "        text-align: right;\n",
       "    }\n",
       "</style>\n",
       "<table border=\"1\" class=\"dataframe\">\n",
       "  <thead>\n",
       "    <tr style=\"text-align: right;\">\n",
       "      <th></th>\n",
       "      <th>permalink</th>\n",
       "      <th>name</th>\n",
       "      <th>category_list</th>\n",
       "      <th>funding_total_usd</th>\n",
       "      <th>status</th>\n",
       "      <th>country_code</th>\n",
       "      <th>state_code</th>\n",
       "      <th>region</th>\n",
       "      <th>city</th>\n",
       "      <th>funding_rounds</th>\n",
       "      <th>founded_at</th>\n",
       "      <th>first_funding_at</th>\n",
       "      <th>last_funding_at</th>\n",
       "      <th>status_bool</th>\n",
       "    </tr>\n",
       "  </thead>\n",
       "  <tbody>\n",
       "    <tr>\n",
       "      <th>16955</th>\n",
       "      <td>/organization/mawell</td>\n",
       "      <td>Mawell</td>\n",
       "      <td>Information Technology</td>\n",
       "      <td>1.107578e+07</td>\n",
       "      <td>operating</td>\n",
       "      <td>GBR</td>\n",
       "      <td>H9</td>\n",
       "      <td>London</td>\n",
       "      <td>London</td>\n",
       "      <td>1</td>\n",
       "      <td>NaN</td>\n",
       "      <td>2007-09-12</td>\n",
       "      <td>2007-09-12</td>\n",
       "      <td>0.0</td>\n",
       "    </tr>\n",
       "    <tr>\n",
       "      <th>16505</th>\n",
       "      <td>/organization/m-a-com-technology-solutions</td>\n",
       "      <td>M/A-COM Technology Solutions</td>\n",
       "      <td>Mobile|Semiconductors</td>\n",
       "      <td>4.375175e+07</td>\n",
       "      <td>ipo</td>\n",
       "      <td>USA</td>\n",
       "      <td>MA</td>\n",
       "      <td>Boston</td>\n",
       "      <td>Lowell</td>\n",
       "      <td>1</td>\n",
       "      <td>NaN</td>\n",
       "      <td>2010-06-08</td>\n",
       "      <td>2010-06-08</td>\n",
       "      <td>1.0</td>\n",
       "    </tr>\n",
       "    <tr>\n",
       "      <th>25156</th>\n",
       "      <td>/organization/showthere</td>\n",
       "      <td>ShowThere</td>\n",
       "      <td>NaN</td>\n",
       "      <td>NaN</td>\n",
       "      <td>closed</td>\n",
       "      <td>NaN</td>\n",
       "      <td>NaN</td>\n",
       "      <td>NaN</td>\n",
       "      <td>NaN</td>\n",
       "      <td>1</td>\n",
       "      <td>2015-08-01</td>\n",
       "      <td>2015-08-01</td>\n",
       "      <td>2015-08-01</td>\n",
       "      <td>0.0</td>\n",
       "    </tr>\n",
       "    <tr>\n",
       "      <th>23780</th>\n",
       "      <td>/organization/riverwired</td>\n",
       "      <td>RiverWired</td>\n",
       "      <td>Networking|Social Media</td>\n",
       "      <td>1.500000e+06</td>\n",
       "      <td>operating</td>\n",
       "      <td>USA</td>\n",
       "      <td>NY</td>\n",
       "      <td>New York City</td>\n",
       "      <td>New York</td>\n",
       "      <td>1</td>\n",
       "      <td>NaN</td>\n",
       "      <td>2008-03-01</td>\n",
       "      <td>2008-03-01</td>\n",
       "      <td>0.0</td>\n",
       "    </tr>\n",
       "    <tr>\n",
       "      <th>16592</th>\n",
       "      <td>/organization/magellan-spine-technologies</td>\n",
       "      <td>Magellan Spine Technologies</td>\n",
       "      <td>Software</td>\n",
       "      <td>6.180600e+05</td>\n",
       "      <td>operating</td>\n",
       "      <td>USA</td>\n",
       "      <td>CA</td>\n",
       "      <td>Anaheim</td>\n",
       "      <td>Irvine</td>\n",
       "      <td>1</td>\n",
       "      <td>2006-01-01</td>\n",
       "      <td>2009-06-02</td>\n",
       "      <td>2009-06-02</td>\n",
       "      <td>0.0</td>\n",
       "    </tr>\n",
       "  </tbody>\n",
       "</table>\n",
       "</div>"
      ],
      "text/plain": [
       "                                        permalink  \\\n",
       "16955                        /organization/mawell   \n",
       "16505  /organization/m-a-com-technology-solutions   \n",
       "25156                     /organization/showthere   \n",
       "23780                    /organization/riverwired   \n",
       "16592   /organization/magellan-spine-technologies   \n",
       "\n",
       "                               name            category_list  \\\n",
       "16955                        Mawell   Information Technology   \n",
       "16505  M/A-COM Technology Solutions    Mobile|Semiconductors   \n",
       "25156                     ShowThere                      NaN   \n",
       "23780                    RiverWired  Networking|Social Media   \n",
       "16592   Magellan Spine Technologies                 Software   \n",
       "\n",
       "       funding_total_usd     status country_code state_code         region  \\\n",
       "16955       1.107578e+07  operating          GBR         H9         London   \n",
       "16505       4.375175e+07        ipo          USA         MA         Boston   \n",
       "25156                NaN     closed          NaN        NaN            NaN   \n",
       "23780       1.500000e+06  operating          USA         NY  New York City   \n",
       "16592       6.180600e+05  operating          USA         CA        Anaheim   \n",
       "\n",
       "           city  funding_rounds  founded_at first_funding_at last_funding_at  \\\n",
       "16955    London               1         NaN       2007-09-12      2007-09-12   \n",
       "16505    Lowell               1         NaN       2010-06-08      2010-06-08   \n",
       "25156       NaN               1  2015-08-01       2015-08-01      2015-08-01   \n",
       "23780  New York               1         NaN       2008-03-01      2008-03-01   \n",
       "16592    Irvine               1  2006-01-01       2009-06-02      2009-06-02   \n",
       "\n",
       "       status_bool  \n",
       "16955          0.0  \n",
       "16505          1.0  \n",
       "25156          0.0  \n",
       "23780          0.0  \n",
       "16592          0.0  "
      ]
     },
     "execution_count": 57,
     "metadata": {},
     "output_type": "execute_result"
    }
   ],
   "source": [
    "nonoperating_companies_df.sample(5)"
   ]
  },
  {
   "cell_type": "markdown",
   "metadata": {},
   "source": [
    "### Rounds DataFrame\n",
    "\n",
    "Este conjunto de dados contém informações sobre as rodadas de investimento para cada startup individualmente"
   ]
  },
  {
   "cell_type": "code",
   "execution_count": 58,
   "metadata": {},
   "outputs": [
    {
     "data": {
      "text/plain": [
       "(114949, 12)"
      ]
     },
     "execution_count": 58,
     "metadata": {},
     "output_type": "execute_result"
    }
   ],
   "source": [
    "rounds_df.shape"
   ]
  },
  {
   "cell_type": "markdown",
   "metadata": {},
   "source": [
    "Foram eliminadas todas as linhas diferentes de pre-acquisition/pre-IPO"
   ]
  },
  {
   "cell_type": "code",
   "execution_count": 59,
   "metadata": {},
   "outputs": [],
   "source": [
    "clean_rounds_df = rounds_df[np.logical_and(\n",
    "    rounds_df.funding_round_type != 'post_ipo_equity',\n",
    "    rounds_df.funding_round_type != 'post_ipo_debt')]"
   ]
  },
  {
   "cell_type": "code",
   "execution_count": 60,
   "metadata": {},
   "outputs": [
    {
     "data": {
      "text/plain": [
       "(114159, 12)"
      ]
     },
     "execution_count": 60,
     "metadata": {},
     "output_type": "execute_result"
    }
   ],
   "source": [
    "clean_rounds_df.shape"
   ]
  },
  {
   "cell_type": "code",
   "execution_count": 61,
   "metadata": {},
   "outputs": [
    {
     "name": "stderr",
     "output_type": "stream",
     "text": [
      "/home/lucas/.local/lib/python3.9/site-packages/pandas/core/generic.py:5491: SettingWithCopyWarning: \n",
      "A value is trying to be set on a copy of a slice from a DataFrame.\n",
      "Try using .loc[row_indexer,col_indexer] = value instead\n",
      "\n",
      "See the caveats in the documentation: https://pandas.pydata.org/pandas-docs/stable/user_guide/indexing.html#returning-a-view-versus-a-copy\n",
      "  self[name] = value\n"
     ]
    }
   ],
   "source": [
    "# Converter a coluna de data em objeto datetime\n",
    "clean_rounds_df.funded_at = pd.to_datetime(clean_rounds_df.loc[:, 'funded_at'])"
   ]
  },
  {
   "cell_type": "code",
   "execution_count": 62,
   "metadata": {},
   "outputs": [
    {
     "data": {
      "text/plain": [
       "Index(['company_permalink', 'company_name', 'company_category_list',\n",
       "       'company_country_code', 'company_state_code', 'company_region',\n",
       "       'company_city', 'funding_round_permalink', 'funding_round_type',\n",
       "       'funding_round_code', 'funded_at', 'raised_amount_usd'],\n",
       "      dtype='object')"
      ]
     },
     "execution_count": 62,
     "metadata": {},
     "output_type": "execute_result"
    }
   ],
   "source": [
    "clean_rounds_df.columns"
   ]
  },
  {
   "cell_type": "code",
   "execution_count": 63,
   "metadata": {
    "scrolled": true
   },
   "outputs": [
    {
     "name": "stdout",
     "output_type": "stream",
     "text": [
      "<class 'pandas.core.frame.DataFrame'>\n",
      "Int64Index: 114159 entries, 0 to 114948\n",
      "Data columns (total 12 columns):\n",
      " #   Column                   Non-Null Count   Dtype         \n",
      "---  ------                   --------------   -----         \n",
      " 0   company_permalink        114159 non-null  object        \n",
      " 1   company_name             114158 non-null  object        \n",
      " 2   company_category_list    110753 non-null  object        \n",
      " 3   company_country_code     105509 non-null  object        \n",
      " 4   company_state_code       103252 non-null  object        \n",
      " 5   company_region           104028 non-null  object        \n",
      " 6   company_city             104031 non-null  object        \n",
      " 7   funding_round_permalink  114159 non-null  object        \n",
      " 8   funding_round_type       114159 non-null  object        \n",
      " 9   funding_round_code       31138 non-null   object        \n",
      " 10  funded_at                114159 non-null  datetime64[ns]\n",
      " 11  raised_amount_usd        94179 non-null   float64       \n",
      "dtypes: datetime64[ns](1), float64(1), object(10)\n",
      "memory usage: 11.3+ MB\n"
     ]
    }
   ],
   "source": [
    "clean_rounds_df.info()"
   ]
  },
  {
   "cell_type": "markdown",
   "metadata": {},
   "source": [
    "## Atributos: tempo médio entre as rodadas, montante médio captado"
   ]
  },
  {
   "cell_type": "code",
   "execution_count": 64,
   "metadata": {
    "scrolled": false
   },
   "outputs": [
    {
     "name": "stderr",
     "output_type": "stream",
     "text": [
      "<ipython-input-64-79eed32718a6>:2: SettingWithCopyWarning: \n",
      "A value is trying to be set on a copy of a slice from a DataFrame\n",
      "\n",
      "See the caveats in the documentation: https://pandas.pydata.org/pandas-docs/stable/user_guide/indexing.html#returning-a-view-versus-a-copy\n",
      "  clean_rounds_df.sort_values(by=['company_name', 'funded_at'],\n"
     ]
    }
   ],
   "source": [
    "# Ordenar o dataframe \"rounds_df\" por nome e data\n",
    "clean_rounds_df.sort_values(by=['company_name', 'funded_at'],\n",
    "                            ascending=True,\n",
    "                            inplace=True)"
   ]
  },
  {
   "cell_type": "code",
   "execution_count": 65,
   "metadata": {
    "scrolled": true
   },
   "outputs": [
    {
     "name": "stderr",
     "output_type": "stream",
     "text": [
      "<ipython-input-65-4d66adc8abe5>:2: SettingWithCopyWarning: \n",
      "A value is trying to be set on a copy of a slice from a DataFrame.\n",
      "Try using .loc[row_indexer,col_indexer] = value instead\n",
      "\n",
      "See the caveats in the documentation: https://pandas.pydata.org/pandas-docs/stable/user_guide/indexing.html#returning-a-view-versus-a-copy\n",
      "  clean_rounds_df['time_between_next_round'] = clean_rounds_df.groupby(\n"
     ]
    }
   ],
   "source": [
    "# Criar coluna para o tempo entre as rodadas\n",
    "clean_rounds_df['time_between_next_round'] = clean_rounds_df.groupby(\n",
    "    'company_name').funded_at.diff()"
   ]
  },
  {
   "cell_type": "code",
   "execution_count": 66,
   "metadata": {},
   "outputs": [],
   "source": [
    "# Calcular o tempo médio entre as rodadas e o investimento médio levantado ($)\n",
    "\n",
    "avg_round_time_amount = clean_rounds_df.groupby('company_name').agg({\n",
    "    'time_between_next_round':\n",
    "    pd.Series.mean,\n",
    "    'raised_amount_usd':\n",
    "    'mean'\n",
    "}).rename(\n",
    "    columns={\n",
    "        'time_between_next_round': 'avg_time_bw_rounds',\n",
    "        'raised_amount_usd': 'avg_raise_usd'\n",
    "    }).reset_index()"
   ]
  },
  {
   "cell_type": "code",
   "execution_count": 67,
   "metadata": {},
   "outputs": [],
   "source": [
    "# Fundir em um dataframe principal\n",
    "\n",
    "nonoperating_companies_df = nonoperating_companies_df.merge(\n",
    "    avg_round_time_amount, how='left', left_on='name', right_on='company_name')"
   ]
  },
  {
   "cell_type": "markdown",
   "metadata": {},
   "source": [
    "### Atributos: tempo entre a primeira e a segunda rodada"
   ]
  },
  {
   "cell_type": "code",
   "execution_count": 68,
   "metadata": {},
   "outputs": [],
   "source": [
    "# Criar coluna no dataframe principal\n",
    "nonoperating_companies_df['time_bw_first_rounds'] = dt.timedelta(0)\n",
    "\n",
    "for company in clean_rounds_df.company_name.unique():\n",
    "    if len(clean_rounds_df[clean_rounds_df.company_name ==\n",
    "                           company].funded_at) > 1:\n",
    "        nonoperating_companies_df.loc[\n",
    "            nonoperating_companies_df.name ==\n",
    "            company, 'time_bw_first_rounds'] = clean_rounds_df[\n",
    "                clean_rounds_df.company_name == company].funded_at.values[\n",
    "                    1] - clean_rounds_df[clean_rounds_df.company_name ==\n",
    "                                         company].funded_at.values[0]"
   ]
  },
  {
   "cell_type": "code",
   "execution_count": 69,
   "metadata": {},
   "outputs": [],
   "source": [
    "nonoperating_companies_df.to_pickle('/home/lucas/startup_data/nonoperating_companies_df.pickle')\n",
    "nonoperating_companies_df.to_pickle('/home/lucas/startup_data/df_before_categories.pickle')"
   ]
  },
  {
   "cell_type": "markdown",
   "metadata": {},
   "source": [
    "### Atributos: Categorias"
   ]
  },
  {
   "cell_type": "markdown",
   "metadata": {},
   "source": [
    "Analisar a distribuição de atributos entre as startups para ver se existem algumas que dominam. Note-se que para startups com múltiplas categorias estão listadas em ordem alfabética."
   ]
  },
  {
   "cell_type": "code",
   "execution_count": 70,
   "metadata": {},
   "outputs": [],
   "source": [
    "with open('/home/lucas/startup_data/nonoperating_companies_df.pickle', 'rb') as read_file:\n",
    "    nonoperating_companies_df = pickle.load(read_file)"
   ]
  },
  {
   "cell_type": "code",
   "execution_count": 71,
   "metadata": {},
   "outputs": [],
   "source": [
    "# Preencher categoria vazia com 'unknown'\n",
    "nonoperating_companies_df.category_list.fillna('unknown', inplace=True)\n",
    "# Criar coluna com lista de categorias\n",
    "nonoperating_companies_df[\n",
    "    'cat_list'] = nonoperating_companies_df.category_list.apply(str.split,\n",
    "                                                                sep='|')"
   ]
  },
  {
   "cell_type": "markdown",
   "metadata": {},
   "source": [
    "Verificar a distribuição das categorias"
   ]
  },
  {
   "cell_type": "code",
   "execution_count": 72,
   "metadata": {},
   "outputs": [
    {
     "data": {
      "image/png": "[encoded data removed]",
      "text/plain": [
       "<Figure size 648x360 with 1 Axes>"
      ]
     },
     "metadata": {
      "needs_background": "light"
     },
     "output_type": "display_data"
    }
   ],
   "source": [
    "# Criar lista de listas de categorias\n",
    "categories = list(nonoperating_companies_df.cat_list)\n",
    "# Arrumar a lista\n",
    "flat_categories = [cat for sublist in categories for cat in sublist]\n",
    "# Contar as ocorrências de cada categoria\n",
    "category_counts = Counter(flat_categories).most_common()\n",
    "# Examinar a distribuição\n",
    "plt.figure(figsize=(9, 5))\n",
    "plt.bar([x[0] for x in category_counts[0:50]],\n",
    "        [x[1] for x in category_counts[0:50]],\n",
    "        width=0.8)\n",
    "plt.xticks(rotation=90)\n",
    "plt.title('50 Most Commonly Occuring Categories')\n",
    "sns.despine()"
   ]
  },
  {
   "cell_type": "code",
   "execution_count": 73,
   "metadata": {},
   "outputs": [],
   "source": [
    "# Ranking das Categorias (Top 25)\n",
    "top_cats = [x[0] for x in category_counts[0:25]]"
   ]
  },
  {
   "cell_type": "markdown",
   "metadata": {},
   "source": [
    "Para cada startup com uma categoria listada nas 25 primeiras categorias, substitua a sua \"cat_list\" por essa única categoria"
   ]
  },
  {
   "cell_type": "code",
   "execution_count": 74,
   "metadata": {},
   "outputs": [],
   "source": [
    "nonoperating_companies_df.cat_list = nonoperating_companies_df.cat_list.map(\n",
    "    lambda x: list(set(x) & set(top_cats))\n",
    "    if set(x) & set(top_cats) else ['0_other_cat'])"
   ]
  },
  {
   "cell_type": "markdown",
   "metadata": {},
   "source": [
    "Examinar novamente a distribuição por categorias com categorias simplificadas"
   ]
  },
  {
   "cell_type": "code",
   "execution_count": 75,
   "metadata": {},
   "outputs": [
    {
     "data": {
      "text/plain": [
       "Text(0.5, 1.0, 'Top Categories')"
      ]
     },
     "execution_count": 75,
     "metadata": {},
     "output_type": "execute_result"
    },
    {
     "data": {
      "image/png": "[encoded data removed]",
      "text/plain": [
       "<Figure size 648x360 with 1 Axes>"
      ]
     },
     "metadata": {
      "needs_background": "light"
     },
     "output_type": "display_data"
    }
   ],
   "source": [
    "# Criar lista de listas de categorias\n",
    "categories = list(nonoperating_companies_df.cat_list)\n",
    "# Arrumar a lista\n",
    "flat_categories = [cat for sublist in categories for cat in sublist]\n",
    "# Contar as ocorrências de cada categoria\n",
    "category_counts = Counter(flat_categories).most_common()\n",
    "# Examinar a distribuição\n",
    "plt.figure(figsize=(9, 5))\n",
    "plt.bar([x[0] for x in category_counts[0:25]],\n",
    "        [x[1] for x in category_counts[0:25]],\n",
    "        width=0.8)\n",
    "plt.xticks(rotation=90)\n",
    "sns.despine()\n",
    "plt.title('Top Categories')"
   ]
  },
  {
   "cell_type": "code",
   "execution_count": 76,
   "metadata": {},
   "outputs": [],
   "source": [
    "# Isto será utilizado para criar variáveis fictícias na matriz de atributos\n",
    "nonoperating_companies_df.cat_list = nonoperating_companies_df.cat_list.apply(\n",
    "    lambda x: x[0])"
   ]
  },
  {
   "cell_type": "code",
   "execution_count": 77,
   "metadata": {},
   "outputs": [],
   "source": [
    "nonoperating_companies_df.to_pickle('/home/lucas/startup_data/nonoperating_companies_df.pickle')"
   ]
  },
  {
   "cell_type": "markdown",
   "metadata": {},
   "source": [
    "### Atributos: Localização"
   ]
  },
  {
   "cell_type": "markdown",
   "metadata": {},
   "source": [
    "Analisar as distribuições de país, estado, região, cidade"
   ]
  },
  {
   "cell_type": "code",
   "execution_count": 78,
   "metadata": {},
   "outputs": [],
   "source": [
    "# País\n",
    "# Preencher país vazio com 'unknown'\n",
    "nonoperating_companies_df.country_code.fillna('unknown', inplace=True)"
   ]
  },
  {
   "cell_type": "code",
   "execution_count": 79,
   "metadata": {},
   "outputs": [
    {
     "data": {
      "text/plain": [
       "Text(0.5, 1.0, 'Distribution of Top 10 Countries')"
      ]
     },
     "execution_count": 79,
     "metadata": {},
     "output_type": "execute_result"
    },
    {
     "data": {
      "image/png": "[encoded data removed]",
      "text/plain": [
       "<Figure size 432x288 with 1 Axes>"
      ]
     },
     "metadata": {
      "needs_background": "light"
     },
     "output_type": "display_data"
    }
   ],
   "source": [
    "# Examinar distribuição\n",
    "country_dist = nonoperating_companies_df.groupby(\n",
    "    'country_code').size().sort_values(ascending=False)\n",
    "plt.bar(country_dist[0:10].index, height=country_dist[0:10].values)\n",
    "plt.xticks(rotation=90)\n",
    "sns.despine()\n",
    "plt.title('Distribution of Top 10 Countries')"
   ]
  },
  {
   "cell_type": "code",
   "execution_count": 80,
   "metadata": {},
   "outputs": [],
   "source": [
    "# Países com mais de 500\n",
    "top_countries = nonoperating_companies_df.groupby('country_code').size() > 300\n",
    "\n",
    "# Startups de países com menos de 300 empresas vão para 'other'\n",
    "nonoperating_companies_df[\n",
    "    'country'] = nonoperating_companies_df.country_code.apply(\n",
    "        lambda x: x if top_countries[x] else '0_other_country')"
   ]
  },
  {
   "cell_type": "code",
   "execution_count": 81,
   "metadata": {},
   "outputs": [],
   "source": [
    "nonoperating_companies_df.to_pickle('/home/lucas/startup_data/nonoperating_companies_df.pickle')"
   ]
  },
  {
   "cell_type": "code",
   "execution_count": 82,
   "metadata": {},
   "outputs": [
    {
     "data": {
      "text/plain": [
       "operating    14661\n",
       "closed        4794\n",
       "acquired      2664\n",
       "ipo            646\n",
       "Name: status, dtype: int64"
      ]
     },
     "execution_count": 82,
     "metadata": {},
     "output_type": "execute_result"
    }
   ],
   "source": [
    "nonoperating_companies_df[nonoperating_companies_df.funding_rounds ==\n",
    "                          1].status.value_counts()"
   ]
  },
  {
   "cell_type": "markdown",
   "metadata": {},
   "source": [
    "### Atributos: Rodadas rotuladas (unfinished)\n",
    "#### Seed Round\n",
    "Verificar rodadas rotuladas como seed, venture e não rotuladas faz diferença na previsão do fracasso da startup."
   ]
  },
  {
   "cell_type": "code",
   "execution_count": 87,
   "metadata": {},
   "outputs": [
    {
     "name": "stderr",
     "output_type": "stream",
     "text": [
      "<ipython-input-87-62f7c78744bf>:12: SettingWithCopyWarning: \n",
      "A value is trying to be set on a copy of a slice from a DataFrame.\n",
      "Try using .loc[row_indexer,col_indexer] = value instead\n",
      "\n",
      "See the caveats in the documentation: https://pandas.pydata.org/pandas-docs/stable/user_guide/indexing.html#returning-a-view-versus-a-copy\n",
      "  clean_rounds_df['round_code'] = clean_rounds_df.apply(seed_code, axis=1)\n"
     ]
    }
   ],
   "source": [
    "def seed_code(row):\n",
    "    \"\"\"\n",
    "    Helper Function:\n",
    "    Replace code field with 'seed' if type field is 'seed'\n",
    "    \"\"\"\n",
    "    if row['funding_round_type'] == 'seed':\n",
    "        return 'seed'\n",
    "    return row['funding_round_code']\n",
    "\n",
    "\n",
    "# Criar nova coluna para isto\n",
    "clean_rounds_df['round_code'] = clean_rounds_df.apply(seed_code, axis=1)"
   ]
  },
  {
   "cell_type": "code",
   "execution_count": 88,
   "metadata": {
    "scrolled": true
   },
   "outputs": [],
   "source": [
    "# Converter a data de investimento em objeto datetime\n",
    "clean_rounds_df.funded_at = pd.to_datetime(clean_rounds_df.loc[:, 'funded_at'])"
   ]
  },
  {
   "cell_type": "code",
   "execution_count": 89,
   "metadata": {},
   "outputs": [],
   "source": [
    "# Agrupar por startup e rodadas por startup que segmentaram suas rodadas\n",
    "company_round_groups = clean_rounds_df.groupby(['company_name',\n",
    "                                                'round_code']).agg({\n",
    "                                                    'funded_at':\n",
    "                                                    'max',\n",
    "                                                    'raised_amount_usd':\n",
    "                                                    'sum'\n",
    "                                                })\n",
    "company_round_groups.reset_index(inplace=True)"
   ]
  },
  {
   "cell_type": "code",
   "execution_count": 90,
   "metadata": {},
   "outputs": [],
   "source": [
    "# Seed dataframe\n",
    "seed_df = company_round_groups[company_round_groups.round_code ==\n",
    "                               'seed'].rename(\n",
    "                                   columns={\n",
    "                                       'company_name': 'name',\n",
    "                                       'round_code': 'seed_bool',\n",
    "                                       'funded_at': 'seed_date',\n",
    "                                       'raised_amount_usd': 'seed_amount'\n",
    "                                   })\n",
    "seed_df.seed_bool = 1"
   ]
  },
  {
   "cell_type": "code",
   "execution_count": 91,
   "metadata": {},
   "outputs": [],
   "source": [
    "# Preencher a coluna \"seed_bool\" em df para startups com um rótulo de rodada seed\n",
    "seed_df['seed_bool'] = 0\n",
    "seed_df.loc[seed_df.name.isin(seed_df.name.values), 'seed_bool'] = 1"
   ]
  },
  {
   "cell_type": "code",
   "execution_count": 92,
   "metadata": {
    "scrolled": true
   },
   "outputs": [
    {
     "data": {
      "text/plain": [
       "1    24944\n",
       "Name: seed_bool, dtype: int64"
      ]
     },
     "execution_count": 92,
     "metadata": {},
     "output_type": "execute_result"
    }
   ],
   "source": [
    "seed_df.seed_bool.value_counts()"
   ]
  },
  {
   "cell_type": "code",
   "execution_count": 93,
   "metadata": {},
   "outputs": [],
   "source": [
    "nonoperating_companies_df.to_pickle('/home/lucas/startup_data/df.pickle')\n",
    "seed_df.to_pickle('/home/lucas/startup_data/df.pickle')"
   ]
  },
  {
   "cell_type": "markdown",
   "metadata": {},
   "source": [
    "## Corrigir 0 values para \"nans\""
   ]
  },
  {
   "cell_type": "code",
   "execution_count": 94,
   "metadata": {},
   "outputs": [],
   "source": [
    "with open('/home/lucas/startup_data/nonoperating_companies_df.pickle', 'rb') as read_file:\n",
    "    df = pickle.load(read_file)"
   ]
  },
  {
   "cell_type": "code",
   "execution_count": 95,
   "metadata": {},
   "outputs": [],
   "source": [
    "df.time_bw_first_rounds.replace(to_replace=dt.timedelta(days=0),\n",
    "                                value=np.nan,\n",
    "                                inplace=True)"
   ]
  },
  {
   "cell_type": "markdown",
   "metadata": {},
   "source": [
    "### Limpando informações sobre data\n",
    "Definir colunas de datas para 'float'"
   ]
  },
  {
   "cell_type": "code",
   "execution_count": 96,
   "metadata": {},
   "outputs": [],
   "source": [
    "# Converter colunas timedelta para 'float' para modelos de classificação\n",
    "df['float_avg_time_bw_rounds'] = df.avg_time_bw_rounds.dt.days\n",
    "df['float_time_bw_first_rounds'] = df.time_bw_first_rounds.dt.days"
   ]
  },
  {
   "cell_type": "markdown",
   "metadata": {},
   "source": [
    "## Outliers"
   ]
  },
  {
   "cell_type": "code",
   "execution_count": 97,
   "metadata": {},
   "outputs": [],
   "source": [
    "# Armazenar o tamanho inicial do conjunto de dados\n",
    "init_size = df.shape"
   ]
  },
  {
   "cell_type": "code",
   "execution_count": 98,
   "metadata": {},
   "outputs": [
    {
     "data": {
      "text/html": [
       "<div>\n",
       "<style scoped>\n",
       "    .dataframe tbody tr th:only-of-type {\n",
       "        vertical-align: middle;\n",
       "    }\n",
       "\n",
       "    .dataframe tbody tr th {\n",
       "        vertical-align: top;\n",
       "    }\n",
       "\n",
       "    .dataframe thead th {\n",
       "        text-align: right;\n",
       "    }\n",
       "</style>\n",
       "<table border=\"1\" class=\"dataframe\">\n",
       "  <thead>\n",
       "    <tr style=\"text-align: right;\">\n",
       "      <th></th>\n",
       "      <th>funding_total_usd</th>\n",
       "      <th>funding_rounds</th>\n",
       "      <th>status_bool</th>\n",
       "      <th>avg_time_bw_rounds</th>\n",
       "      <th>avg_raise_usd</th>\n",
       "      <th>time_bw_first_rounds</th>\n",
       "      <th>float_avg_time_bw_rounds</th>\n",
       "      <th>float_time_bw_first_rounds</th>\n",
       "    </tr>\n",
       "  </thead>\n",
       "  <tbody>\n",
       "    <tr>\n",
       "      <th>count</th>\n",
       "      <td>2.582100e+04</td>\n",
       "      <td>32426.000000</td>\n",
       "      <td>32426.000000</td>\n",
       "      <td>9639</td>\n",
       "      <td>2.561800e+04</td>\n",
       "      <td>9433</td>\n",
       "      <td>9639.000000</td>\n",
       "      <td>9433.000000</td>\n",
       "    </tr>\n",
       "    <tr>\n",
       "      <th>mean</th>\n",
       "      <td>1.994869e+07</td>\n",
       "      <td>1.568494</td>\n",
       "      <td>0.218806</td>\n",
       "      <td>531 days 20:20:24.842320864</td>\n",
       "      <td>9.983271e+06</td>\n",
       "      <td>554 days 05:27:26.771970744</td>\n",
       "      <td>531.707957</td>\n",
       "      <td>554.227393</td>\n",
       "    </tr>\n",
       "    <tr>\n",
       "      <th>std</th>\n",
       "      <td>2.436003e+08</td>\n",
       "      <td>1.183781</td>\n",
       "      <td>0.413443</td>\n",
       "      <td>467 days 18:55:03.464741488</td>\n",
       "      <td>1.325715e+08</td>\n",
       "      <td>545 days 06:57:20.249379048</td>\n",
       "      <td>467.805388</td>\n",
       "      <td>545.289818</td>\n",
       "    </tr>\n",
       "    <tr>\n",
       "      <th>min</th>\n",
       "      <td>2.000000e+00</td>\n",
       "      <td>1.000000</td>\n",
       "      <td>0.000000</td>\n",
       "      <td>0 days 00:00:00</td>\n",
       "      <td>0.000000e+00</td>\n",
       "      <td>1 days 00:00:00</td>\n",
       "      <td>0.000000</td>\n",
       "      <td>1.000000</td>\n",
       "    </tr>\n",
       "    <tr>\n",
       "      <th>25%</th>\n",
       "      <td>3.600000e+05</td>\n",
       "      <td>1.000000</td>\n",
       "      <td>0.000000</td>\n",
       "      <td>250 days 15:00:00</td>\n",
       "      <td>3.000000e+05</td>\n",
       "      <td>226 days 00:00:00</td>\n",
       "      <td>250.000000</td>\n",
       "      <td>226.000000</td>\n",
       "    </tr>\n",
       "    <tr>\n",
       "      <th>50%</th>\n",
       "      <td>2.100000e+06</td>\n",
       "      <td>1.000000</td>\n",
       "      <td>0.000000</td>\n",
       "      <td>421 days 00:00:00</td>\n",
       "      <td>1.600000e+06</td>\n",
       "      <td>425 days 00:00:00</td>\n",
       "      <td>421.000000</td>\n",
       "      <td>425.000000</td>\n",
       "    </tr>\n",
       "    <tr>\n",
       "      <th>75%</th>\n",
       "      <td>1.093134e+07</td>\n",
       "      <td>2.000000</td>\n",
       "      <td>0.000000</td>\n",
       "      <td>671 days 00:00:00</td>\n",
       "      <td>6.705159e+06</td>\n",
       "      <td>722 days 00:00:00</td>\n",
       "      <td>671.000000</td>\n",
       "      <td>722.000000</td>\n",
       "    </tr>\n",
       "    <tr>\n",
       "      <th>max</th>\n",
       "      <td>3.007950e+10</td>\n",
       "      <td>18.000000</td>\n",
       "      <td>1.000000</td>\n",
       "      <td>8643 days 12:00:00</td>\n",
       "      <td>1.760000e+10</td>\n",
       "      <td>16477 days 00:00:00</td>\n",
       "      <td>8643.000000</td>\n",
       "      <td>16477.000000</td>\n",
       "    </tr>\n",
       "  </tbody>\n",
       "</table>\n",
       "</div>"
      ],
      "text/plain": [
       "       funding_total_usd  funding_rounds   status_bool  \\\n",
       "count       2.582100e+04    32426.000000  32426.000000   \n",
       "mean        1.994869e+07        1.568494      0.218806   \n",
       "std         2.436003e+08        1.183781      0.413443   \n",
       "min         2.000000e+00        1.000000      0.000000   \n",
       "25%         3.600000e+05        1.000000      0.000000   \n",
       "50%         2.100000e+06        1.000000      0.000000   \n",
       "75%         1.093134e+07        2.000000      0.000000   \n",
       "max         3.007950e+10       18.000000      1.000000   \n",
       "\n",
       "                avg_time_bw_rounds  avg_raise_usd  \\\n",
       "count                         9639   2.561800e+04   \n",
       "mean   531 days 20:20:24.842320864   9.983271e+06   \n",
       "std    467 days 18:55:03.464741488   1.325715e+08   \n",
       "min                0 days 00:00:00   0.000000e+00   \n",
       "25%              250 days 15:00:00   3.000000e+05   \n",
       "50%              421 days 00:00:00   1.600000e+06   \n",
       "75%              671 days 00:00:00   6.705159e+06   \n",
       "max             8643 days 12:00:00   1.760000e+10   \n",
       "\n",
       "              time_bw_first_rounds  float_avg_time_bw_rounds  \\\n",
       "count                         9433               9639.000000   \n",
       "mean   554 days 05:27:26.771970744                531.707957   \n",
       "std    545 days 06:57:20.249379048                467.805388   \n",
       "min                1 days 00:00:00                  0.000000   \n",
       "25%              226 days 00:00:00                250.000000   \n",
       "50%              425 days 00:00:00                421.000000   \n",
       "75%              722 days 00:00:00                671.000000   \n",
       "max            16477 days 00:00:00               8643.000000   \n",
       "\n",
       "       float_time_bw_first_rounds  \n",
       "count                 9433.000000  \n",
       "mean                   554.227393  \n",
       "std                    545.289818  \n",
       "min                      1.000000  \n",
       "25%                    226.000000  \n",
       "50%                    425.000000  \n",
       "75%                    722.000000  \n",
       "max                  16477.000000  "
      ]
     },
     "execution_count": 98,
     "metadata": {},
     "output_type": "execute_result"
    }
   ],
   "source": [
    "df.describe()"
   ]
  },
  {
   "cell_type": "markdown",
   "metadata": {},
   "source": [
    "O valor máximo para várias colunas é muito suspeito para o tempo entre as rodadas e o investimento levantado ($)"
   ]
  },
  {
   "cell_type": "code",
   "execution_count": 99,
   "metadata": {},
   "outputs": [
    {
     "data": {
      "text/plain": [
       "Text(0.5, 1.0, 'Total Raise Amount')"
      ]
     },
     "execution_count": 99,
     "metadata": {},
     "output_type": "execute_result"
    },
    {
     "data": {
      "image/png": "[encoded data removed]",
      "text/plain": [
       "<Figure size 1080x360 with 4 Axes>"
      ]
     },
     "metadata": {
      "needs_background": "light"
     },
     "output_type": "display_data"
    }
   ],
   "source": [
    "plt.subplots(1, 4, figsize=(15, 5))\n",
    "plt.subplot(1, 4, 1)\n",
    "plt.boxplot(\n",
    "    df.float_time_bw_first_rounds[df.float_time_bw_first_rounds.notnull()])\n",
    "plt.title('Time between first rounds')\n",
    "plt.subplot(1, 4, 2)\n",
    "plt.boxplot(df.float_avg_time_bw_rounds[df.float_avg_time_bw_rounds.notnull()])\n",
    "plt.title('Average time between rounds')\n",
    "plt.subplot(1, 4, 3)\n",
    "plt.boxplot(df.avg_raise_usd[df.avg_raise_usd.notnull()])\n",
    "plt.title('Average Raise Amount')\n",
    "plt.subplot(1, 4, 4)\n",
    "plt.boxplot(df.funding_total_usd[df.funding_total_usd.notnull()])\n",
    "plt.title('Total Raise Amount')"
   ]
  },
  {
   "cell_type": "markdown",
   "metadata": {},
   "source": [
    "Estes estão fortemente inclinados para a direita - tentou-se remover alguns outliers"
   ]
  },
  {
   "cell_type": "code",
   "execution_count": 100,
   "metadata": {},
   "outputs": [],
   "source": [
    "def findOutliers(df, column, lim_scalar=1.5):\n",
    "    \"\"\"\n",
    "    Returns outliers above the max limit for a column in a dataframe\n",
    "    Adjust outlier cutoff to q75 + 4*iqr to include more data\n",
    "    ---\n",
    "    input: DataFrame, column(series),lim_scalar(float)\n",
    "    output: DataFrame\n",
    "    \"\"\"\n",
    "    q25, q50, q75 = df[column].quantile(q=[0.25, 0.5, 0.75])\n",
    "    iqr = q75 - q25\n",
    "    # limites máximos para ser considerado como um outlier\n",
    "    max = q75 + lim_scalar * iqr\n",
    "    # identificar os pontos\n",
    "    outlier_mask = [True if x > max else False for x in df[column]]\n",
    "    print(\n",
    "        '{} outliers found out of {} data points, {:.2f}% of the data'.format(\n",
    "            sum(outlier_mask), len(df[column]),\n",
    "            100 * (sum(outlier_mask) / len(df[column]))))\n",
    "    return outlier_mask"
   ]
  },
  {
   "cell_type": "code",
   "execution_count": 101,
   "metadata": {},
   "outputs": [
    {
     "name": "stdout",
     "output_type": "stream",
     "text": [
      "Funding total $: \n",
      "2123 outliers found out of 32426 data points, 6.55% of the data\n",
      "Average round $: \n",
      "1498 outliers found out of 32426 data points, 4.62% of the data\n",
      "Time between first rounds: \n",
      "470 outliers found out of 32426 data points, 1.45% of the data\n",
      "Average time between rounds: \n",
      "543 outliers found out of 32426 data points, 1.67% of the data\n"
     ]
    }
   ],
   "source": [
    "print('Funding total $: ')\n",
    "fund_total_outlier_mask = pd.Series(\n",
    "    findOutliers(df, 'funding_total_usd', lim_scalar=3))\n",
    "print('Average round $: ')\n",
    "avg_raise_outlier_mask = pd.Series(\n",
    "    findOutliers(df, 'avg_raise_usd', lim_scalar=3))\n",
    "print('Time between first rounds: ')\n",
    "first_time_outlier_mask = pd.Series(\n",
    "    findOutliers(df, 'float_time_bw_first_rounds', lim_scalar=1.5))\n",
    "print('Average time between rounds: ')\n",
    "avg_time_outlier_mask = pd.Series(\n",
    "    findOutliers(df, 'float_avg_time_bw_rounds', lim_scalar=1.5))"
   ]
  },
  {
   "cell_type": "markdown",
   "metadata": {},
   "source": [
    "Muitas sobreposições sobre estes pontos. Remover os outliers."
   ]
  },
  {
   "cell_type": "code",
   "execution_count": 102,
   "metadata": {},
   "outputs": [],
   "source": [
    "# Retirar outliers\n",
    "clean_df1 = df[~fund_total_outlier_mask]\n",
    "clean_df2 = df[~avg_raise_outlier_mask]\n",
    "clean_df3 = df[~first_time_outlier_mask]\n",
    "clean_df4 = df[~avg_time_outlier_mask]\n",
    "\n",
    "clean_df = clean_df1.merge(clean_df2,\n",
    "                           left_on=list(df.columns),\n",
    "                           right_on=list(df.columns),\n",
    "                           how='inner')\n",
    "clean_df = clean_df.merge(clean_df3,\n",
    "                          left_on=list(df.columns),\n",
    "                          right_on=list(df.columns),\n",
    "                          how='inner')\n",
    "clean_df = clean_df.merge(clean_df4,\n",
    "                          left_on=list(df.columns),\n",
    "                          right_on=list(df.columns),\n",
    "                          how='inner')"
   ]
  },
  {
   "cell_type": "code",
   "execution_count": 103,
   "metadata": {},
   "outputs": [
    {
     "name": "stdout",
     "output_type": "stream",
     "text": [
      "Removed 3004 outliers, 4.86% of the original dataset\n"
     ]
    }
   ],
   "source": [
    "print('Removed {} outliers, {:.2f}% of the original dataset'.format(\n",
    "    (init_size[0] - clean_df.shape[0]), 100 *\n",
    "    ((init_size[0] - clean_df.shape[0]) / (init_size[0] + clean_df.shape[0]))))"
   ]
  },
  {
   "cell_type": "code",
   "execution_count": 104,
   "metadata": {},
   "outputs": [],
   "source": [
    "clean_df.to_pickle('/home/lucas/startup_data/clean_df.pickle')"
   ]
  },
  {
   "cell_type": "code",
   "execution_count": 105,
   "metadata": {},
   "outputs": [
    {
     "data": {
      "text/html": [
       "<div>\n",
       "<style scoped>\n",
       "    .dataframe tbody tr th:only-of-type {\n",
       "        vertical-align: middle;\n",
       "    }\n",
       "\n",
       "    .dataframe tbody tr th {\n",
       "        vertical-align: top;\n",
       "    }\n",
       "\n",
       "    .dataframe thead th {\n",
       "        text-align: right;\n",
       "    }\n",
       "</style>\n",
       "<table border=\"1\" class=\"dataframe\">\n",
       "  <thead>\n",
       "    <tr style=\"text-align: right;\">\n",
       "      <th></th>\n",
       "      <th>funding_total_usd</th>\n",
       "      <th>funding_rounds</th>\n",
       "      <th>status_bool</th>\n",
       "      <th>avg_time_bw_rounds</th>\n",
       "      <th>avg_raise_usd</th>\n",
       "      <th>time_bw_first_rounds</th>\n",
       "      <th>float_avg_time_bw_rounds</th>\n",
       "      <th>float_time_bw_first_rounds</th>\n",
       "    </tr>\n",
       "  </thead>\n",
       "  <tbody>\n",
       "    <tr>\n",
       "      <th>count</th>\n",
       "      <td>2.284600e+04</td>\n",
       "      <td>29422.000000</td>\n",
       "      <td>29422.000000</td>\n",
       "      <td>7659</td>\n",
       "      <td>2.273300e+04</td>\n",
       "      <td>7472</td>\n",
       "      <td>7659.000000</td>\n",
       "      <td>7472.000000</td>\n",
       "    </tr>\n",
       "    <tr>\n",
       "      <th>mean</th>\n",
       "      <td>5.243217e+06</td>\n",
       "      <td>1.438651</td>\n",
       "      <td>0.184182</td>\n",
       "      <td>436 days 14:54:13.151985224</td>\n",
       "      <td>3.324563e+06</td>\n",
       "      <td>447 days 02:29:44.582441112</td>\n",
       "      <td>436.501632</td>\n",
       "      <td>447.103988</td>\n",
       "    </tr>\n",
       "    <tr>\n",
       "      <th>std</th>\n",
       "      <td>8.040261e+06</td>\n",
       "      <td>0.949003</td>\n",
       "      <td>0.387639</td>\n",
       "      <td>280 days 13:34:11.088023652</td>\n",
       "      <td>4.756288e+06</td>\n",
       "      <td>306 days 10:57:54.058703764</td>\n",
       "      <td>280.574769</td>\n",
       "      <td>306.456876</td>\n",
       "    </tr>\n",
       "    <tr>\n",
       "      <th>min</th>\n",
       "      <td>2.000000e+00</td>\n",
       "      <td>1.000000</td>\n",
       "      <td>0.000000</td>\n",
       "      <td>0 days 00:00:00</td>\n",
       "      <td>0.000000e+00</td>\n",
       "      <td>1 days 00:00:00</td>\n",
       "      <td>0.000000</td>\n",
       "      <td>1.000000</td>\n",
       "    </tr>\n",
       "    <tr>\n",
       "      <th>25%</th>\n",
       "      <td>2.672890e+05</td>\n",
       "      <td>1.000000</td>\n",
       "      <td>0.000000</td>\n",
       "      <td>228 days 00:00:00</td>\n",
       "      <td>2.500000e+05</td>\n",
       "      <td>211 days 00:00:00</td>\n",
       "      <td>228.000000</td>\n",
       "      <td>211.000000</td>\n",
       "    </tr>\n",
       "    <tr>\n",
       "      <th>50%</th>\n",
       "      <td>1.500000e+06</td>\n",
       "      <td>1.000000</td>\n",
       "      <td>0.000000</td>\n",
       "      <td>389 days 18:00:00</td>\n",
       "      <td>1.167697e+06</td>\n",
       "      <td>389 days 12:00:00</td>\n",
       "      <td>389.000000</td>\n",
       "      <td>389.500000</td>\n",
       "    </tr>\n",
       "    <tr>\n",
       "      <th>75%</th>\n",
       "      <td>6.600000e+06</td>\n",
       "      <td>2.000000</td>\n",
       "      <td>0.000000</td>\n",
       "      <td>599 days 18:00:00</td>\n",
       "      <td>4.523083e+06</td>\n",
       "      <td>633 days 00:00:00</td>\n",
       "      <td>599.500000</td>\n",
       "      <td>633.000000</td>\n",
       "    </tr>\n",
       "    <tr>\n",
       "      <th>max</th>\n",
       "      <td>4.260000e+07</td>\n",
       "      <td>18.000000</td>\n",
       "      <td>1.000000</td>\n",
       "      <td>1302 days 00:00:00</td>\n",
       "      <td>2.580000e+07</td>\n",
       "      <td>1462 days 00:00:00</td>\n",
       "      <td>1302.000000</td>\n",
       "      <td>1462.000000</td>\n",
       "    </tr>\n",
       "  </tbody>\n",
       "</table>\n",
       "</div>"
      ],
      "text/plain": [
       "       funding_total_usd  funding_rounds   status_bool  \\\n",
       "count       2.284600e+04    29422.000000  29422.000000   \n",
       "mean        5.243217e+06        1.438651      0.184182   \n",
       "std         8.040261e+06        0.949003      0.387639   \n",
       "min         2.000000e+00        1.000000      0.000000   \n",
       "25%         2.672890e+05        1.000000      0.000000   \n",
       "50%         1.500000e+06        1.000000      0.000000   \n",
       "75%         6.600000e+06        2.000000      0.000000   \n",
       "max         4.260000e+07       18.000000      1.000000   \n",
       "\n",
       "                avg_time_bw_rounds  avg_raise_usd  \\\n",
       "count                         7659   2.273300e+04   \n",
       "mean   436 days 14:54:13.151985224   3.324563e+06   \n",
       "std    280 days 13:34:11.088023652   4.756288e+06   \n",
       "min                0 days 00:00:00   0.000000e+00   \n",
       "25%              228 days 00:00:00   2.500000e+05   \n",
       "50%              389 days 18:00:00   1.167697e+06   \n",
       "75%              599 days 18:00:00   4.523083e+06   \n",
       "max             1302 days 00:00:00   2.580000e+07   \n",
       "\n",
       "              time_bw_first_rounds  float_avg_time_bw_rounds  \\\n",
       "count                         7472               7659.000000   \n",
       "mean   447 days 02:29:44.582441112                436.501632   \n",
       "std    306 days 10:57:54.058703764                280.574769   \n",
       "min                1 days 00:00:00                  0.000000   \n",
       "25%              211 days 00:00:00                228.000000   \n",
       "50%              389 days 12:00:00                389.000000   \n",
       "75%              633 days 00:00:00                599.500000   \n",
       "max             1462 days 00:00:00               1302.000000   \n",
       "\n",
       "       float_time_bw_first_rounds  \n",
       "count                 7472.000000  \n",
       "mean                   447.103988  \n",
       "std                    306.456876  \n",
       "min                      1.000000  \n",
       "25%                    211.000000  \n",
       "50%                    389.500000  \n",
       "75%                    633.000000  \n",
       "max                   1462.000000  "
      ]
     },
     "execution_count": 105,
     "metadata": {},
     "output_type": "execute_result"
    }
   ],
   "source": [
    "clean_df.describe()"
   ]
  }
 ],
 "metadata": {
  "kernelspec": {
   "display_name": "Python 3",
   "language": "python",
   "name": "python3"
  },
  "language_info": {
   "codemirror_mode": {
    "name": "ipython",
    "version": 3
   },
   "file_extension": ".py",
   "mimetype": "text/x-python",
   "name": "python",
   "nbconvert_exporter": "python",
   "pygments_lexer": "ipython3",
   "version": "3.9.2"
  }
 },
 "nbformat": 4,
 "nbformat_minor": 4
}
